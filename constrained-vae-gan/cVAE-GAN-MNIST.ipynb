{
 "cells": [
  {
   "cell_type": "code",
   "execution_count": 1,
   "metadata": {
    "collapsed": true
   },
   "outputs": [],
   "source": [
    "# Import all of our packages\n",
    "\n",
    "import os\n",
    "import numpy as np\n",
    "import prettytensor as pt\n",
    "import tensorflow as tf\n",
    "from tensorflow.examples.tutorials.mnist import input_data\n",
    "import matplotlib.pyplot as plt\n",
    "from deconv import deconv2d\n",
    "import IPython.display\n",
    "import math\n",
    "import tqdm # making loops prettier\n",
    "import h5py # for reading our dataset\n",
    "import ipywidgets as widgets\n",
    "from ipywidgets import interact, interactive, fixed\n",
    "\n",
    "%matplotlib inline  "
   ]
  },
  {
   "cell_type": "markdown",
   "metadata": {},
   "source": [
    "## Parameters \n"
   ]
  },
  {
   "cell_type": "code",
   "execution_count": 2,
   "metadata": {},
   "outputs": [
    {
     "name": "stdout",
     "output_type": "stream",
     "text": [
      "Extracting MNIST_data/train-images-idx3-ubyte.gz\n",
      "Extracting MNIST_data/train-labels-idx1-ubyte.gz\n",
      "Extracting MNIST_data/t10k-images-idx3-ubyte.gz\n",
      "Extracting MNIST_data/t10k-labels-idx1-ubyte.gz\n"
     ]
    }
   ],
   "source": [
    "mnist = input_data.read_data_sets('MNIST_data', one_hot=False, validation_size=0)\n",
    "dim1 = 28\n",
    "dim2 = 28\n",
    "dim3 = 1 # third dimension of input data (colors)\n",
    "batch_size = 256 # size of batches to use (per GPU)\n",
    "num_examples = 60000 # how many examples are in your training set\n",
    "num_epochs = 10000 # number of epochs to run\n",
    "### we can train our different networks  with different learning rates if we want to\n",
    "e_learning_rate = 1e-2\n",
    "g_learning_rate = 2e-2\n",
    "d_learning_rate = 1e-2\n",
    "dir_name = 'mnist_constrained_balanced_loss'\n",
    "milu = True\n",
    "constraint_boundary = -np.float32(np.log(0.5))\n",
    "if milu:\n",
    "    hidden_size = 32\n",
    "else:\n",
    "    hidden_size = 20"
   ]
  },
  {
   "cell_type": "markdown",
   "metadata": {},
   "source": [
    "### Which GPUs are we using?\n",
    "- Set `gpus` to a list of the GPUs you're using. The network will then split up the work between those gpus"
   ]
  },
  {
   "cell_type": "code",
   "execution_count": 3,
   "metadata": {
    "collapsed": true
   },
   "outputs": [],
   "source": [
    "gpus = [] # Here I set CUDA to only see one GPU\n",
    "os.environ[\"CUDA_VISIBLE_DEVICES\"]=','.join([str(i) for i in gpus])\n",
    "num_gpus = len(gpus) # number of GPUs to use\n",
    "cpus = [0,1,2,3]\n",
    "num_cpus = len(cpus)\n",
    "def create_image(im):\n",
    "        return np.reshape(im,(dim1,dim2))"
   ]
  },
  {
   "cell_type": "markdown",
   "metadata": {},
   "source": [
    "### Reading the dataset from HDF5 format\n",
    "- open `makedataset.ipynb' for instructions on how to build the dataset"
   ]
  },
  {
   "cell_type": "code",
   "execution_count": 6,
   "metadata": {},
   "outputs": [
    {
     "data": {
      "text/plain": [
       "<matplotlib.image.AxesImage at 0x7fb87ffd0250>"
      ]
     },
     "execution_count": 6,
     "metadata": {},
     "output_type": "execute_result"
    },
    {
     "data": {
      "image/png": "[encoded data removed]",
      "text/plain": [
       "<matplotlib.figure.Figure at 0x7fb88004ce90>"
      ]
     },
     "metadata": {},
     "output_type": "display_data"
    }
   ],
   "source": [
    "# Just taking a look and making sure everything works\n",
    "plt.imshow(np.reshape(mnist.train.images[0,:], (28,28)), interpolation='nearest')"
   ]
  },
  {
   "cell_type": "code",
   "execution_count": 7,
   "metadata": {
    "collapsed": true
   },
   "outputs": [],
   "source": [
    "if not milu:\n",
    "    def encoder(X):\n",
    "\n",
    "\n",
    "\n",
    "        lay_end = (pt.wrap(X).\n",
    "                   fully_connected(500, activation_fn=tf.nn.relu).\n",
    "                   fully_connected(500, activation_fn=tf.nn.relu))\n",
    "\n",
    "        z_mean = lay_end.fully_connected(hidden_size, activation_fn=None)\n",
    "        z_log_sigma_sq = lay_end.fully_connected(hidden_size, activation_fn=None)\n",
    "        return z_mean, z_log_sigma_sq\n",
    "\n",
    "\n",
    "    def generator(Z):\n",
    "        '''Create generator network.\n",
    "            If input tensor is provided then decodes it, otherwise samples from \n",
    "            a sampled vector.\n",
    "        Args:\n",
    "            x: a batch of vectors to decode\n",
    "        Returns:\n",
    "            A tensor that expresses the generator network\n",
    "        '''\n",
    "        return (pt.wrap(Z).\n",
    "                fully_connected(500).\n",
    "                fully_connected(500, activation_fn=tf.nn.relu).\n",
    "                fully_connected(784, activation_fn=tf.nn.relu))\n",
    "\n",
    "\n",
    "\n",
    "    def discriminator(D_I):\n",
    "        ''' A encodes\n",
    "        Create a network that discriminates between images from a dataset and\n",
    "        generated ones.\n",
    "        Args:\n",
    "            input: a batch of real images [batch, height, width, channels]\n",
    "        Returns:\n",
    "            A tensor that represents the network\n",
    "        ''' \n",
    "        lth_layer =  (pt.wrap(D_I).\n",
    "                         fully_connected(500, activation_fn=tf.nn.relu).\n",
    "                         fully_connected(500, activation_fn=tf.nn.relu))\n",
    "        D =lth_layer.fully_connected(1, activation_fn=tf.nn.sigmoid) # this is the actual discrimination\n",
    "        return D, lth_layer\n",
    "\n",
    "else:\n",
    "    def encoder(X):\n",
    "\n",
    "\n",
    "\n",
    "        lay_end = (pt.wrap(X).\n",
    "                   fully_connected(392, activation_fn=tf.nn.relu).\n",
    "                   fully_connected(196, activation_fn=tf.nn.relu).\n",
    "                   fully_connected(98, activation_fn=tf.nn.relu))\n",
    "\n",
    "        z_mean = lay_end.fully_connected(hidden_size, activation_fn=None)\n",
    "        z_log_sigma_sq = lay_end.fully_connected(hidden_size, activation_fn=None)\n",
    "        return z_mean, z_log_sigma_sq\n",
    "\n",
    "\n",
    "    def generator(Z):\n",
    "        '''Create generator network.\n",
    "            If input tensor is provided then decodes it, otherwise samples from \n",
    "            a sampled vector.\n",
    "        Args:\n",
    "            x: a batch of vectors to decode\n",
    "        Returns:\n",
    "            A tensor that expresses the generator network\n",
    "        '''\n",
    "        return (pt.wrap(Z).\n",
    "                fully_connected(98).\n",
    "                fully_connected(196, activation_fn=tf.nn.relu).\n",
    "                fully_connected(392, activation_fn=tf.nn.relu).\n",
    "                fully_connected(784, activation_fn=tf.nn.relu))\n",
    "\n",
    "\n",
    "\n",
    "    def discriminator(D_I):\n",
    "        ''' A encodes\n",
    "        Create a network that discriminates between images from a dataset and\n",
    "        generated ones.\n",
    "        Args:\n",
    "            input: a batch of real images [batch, height, width, channels]\n",
    "        Returns:\n",
    "            A tensor that represents the network\n",
    "        ''' \n",
    "        lth_layer =  (pt.wrap(D_I).\n",
    "                         fully_connected(392, activation_fn=tf.nn.relu).\n",
    "                         fully_connected(196, activation_fn=tf.nn.relu).\n",
    "                         fully_connected(98, activation_fn=tf.nn.relu))\n",
    "        D =lth_layer.fully_connected(1, activation_fn=tf.nn.sigmoid) # this is the actual discrimination\n",
    "        return D, lth_layer\n",
    "\n"
   ]
  },
  {
   "cell_type": "code",
   "execution_count": 8,
   "metadata": {
    "collapsed": true
   },
   "outputs": [],
   "source": [
    "def inference(x):\n",
    "    \"\"\"\n",
    "    Run the models. Called inference because it does the same thing as tensorflow's cifar tutorial\n",
    "    \"\"\"\n",
    "    z_p =  tf.random_normal((batch_size, hidden_size), 0, 1) # normal dist for GAN\n",
    "    eps = tf.random_normal((batch_size, hidden_size), 0, 1) # normal dist for VAE\n",
    "\n",
    "    with pt.defaults_scope(activation_fn=tf.nn.elu,\n",
    "                               batch_normalize=True,\n",
    "                               learned_moments_update_rate=0.0003,\n",
    "                               variance_epsilon=0.001,\n",
    "                               scale_after_normalization=True):\n",
    "        \n",
    "        with tf.variable_scope(\"enc\"):         \n",
    "                z_x_mean, z_x_log_sigma_sq = encoder(x) # get z from the input      \n",
    "        with tf.variable_scope(\"gen\"):\n",
    "            z_x = tf.add(z_x_mean, \n",
    "                tf.multiply(tf.sqrt(tf.exp(z_x_log_sigma_sq)), eps)) # grab our actual z\n",
    "            x_tilde = generator(z_x)  \n",
    "        with tf.variable_scope(\"dis\"):   \n",
    "            _, l_x_tilde = discriminator(x_tilde)\n",
    "        with tf.variable_scope(\"gen\", reuse=True):         \n",
    "            x_p = generator(z_p)    \n",
    "        with tf.variable_scope(\"dis\", reuse=True):\n",
    "            d_x, l_x = discriminator(x)  # positive examples              \n",
    "        with tf.variable_scope(\"dis\", reuse=True):\n",
    "            d_x_p, _ = discriminator(x_p)  \n",
    "        return z_x_mean, z_x_log_sigma_sq, z_x, x_tilde, l_x_tilde, x_p, d_x, l_x, d_x_p, z_p\n",
    "        #return z_x_mean, z_x_log_sigma_sq, z_x, x_tilde, x_tilde, x_p, d_x, x, d_x_p, z_p"
   ]
  },
  {
   "cell_type": "markdown",
   "metadata": {},
   "source": [
    "### Loss - define our various loss functions\n",
    "- **SSE** - we don't actually use this loss (also its the MSE), its just to see how close x is to x_tilde\n",
    "- **KL Loss** - our VAE gaussian distribution loss. \n",
    "  - See https://arxiv.org/abs/1312.6114\n",
    "- **D_loss** - Our descriminator loss, how good the discriminator is at telling if something is real\n",
    "- **G_loss** - essentially the opposite of the D_loss, how good the generator is a tricking the discriminator\n",
    "- ***notice we clip our values to make sure learning rates don't explode***"
   ]
  },
  {
   "cell_type": "code",
   "execution_count": 9,
   "metadata": {
    "collapsed": true
   },
   "outputs": [],
   "source": [
    "def loss(x, x_tilde, z_x_log_sigma_sq, z_x_mean, d_x, d_x_p, l_x, l_x_tilde, dim1, dim2, dim3):\n",
    "    \"\"\"\n",
    "    Loss functions for SSE, KL divergence, Discrim, Generator, Lth Layer Similarity\n",
    "    \"\"\"\n",
    "    ### We don't actually use SSE (MSE) loss for anything (but maybe pretraining)\n",
    "    SSE_loss = tf.reduce_mean(tf.square(x - x_tilde)) # This is what a normal VAE uses\n",
    "\n",
    "    # We clip gradients of KL divergence to prevent NANs\n",
    "    KL_loss = tf.reduce_sum(-0.5 * tf.reduce_sum(1 + tf.clip_by_value(z_x_log_sigma_sq, -10.0, 10.0) \n",
    "                                   - tf.square(tf.clip_by_value(z_x_mean, -10.0, 10.0) ) \n",
    "                                   - tf.exp(tf.clip_by_value(z_x_log_sigma_sq, -10.0, 10.0) ), 1))/dim1/dim2/dim3\n",
    "    # Discriminator Loss\n",
    "    D_loss = tf.reduce_mean(-1.*(tf.log(tf.clip_by_value(d_x,1e-5,1.0)) + \n",
    "                                    tf.log(tf.clip_by_value(1.0 - d_x_p,1e-5,1.0))))\n",
    "    # Generator Loss    \n",
    "    G_loss = tf.reduce_mean(-1.*(tf.log(tf.clip_by_value(d_x_p,1e-5,1.0))))# + \n",
    "                                    #tf.log(tf.clip_by_value(1.0 - d_x,1e-5,1.0))))\n",
    "    # Lth Layer Loss - the 'learned similarity measure'  \n",
    "    LL_loss = tf.reduce_sum(tf.square(l_x - l_x_tilde))/dim1/dim2/dim3\n",
    "    return SSE_loss, KL_loss, D_loss, G_loss, LL_loss"
   ]
  },
  {
   "cell_type": "markdown",
   "metadata": {},
   "source": [
    "### Average the gradients between towers\n",
    "- This function is taken directly from \n",
    "    - https://github.com/tensorflow/tensorflow/blob/r0.10/tensorflow/models/image/cifar10/cifar10_multi_gpu_train.py\n",
    "- Basically we're taking a list of gradients from each tower, and averaging them together"
   ]
  },
  {
   "cell_type": "code",
   "execution_count": 10,
   "metadata": {
    "collapsed": true
   },
   "outputs": [],
   "source": [
    "def average_gradients(tower_grads):\n",
    "    \"\"\"Calculate the average gradient for each shared variable across all towers.\n",
    "    Note that this function provides a synchronization point across all towers.\n",
    "    Args:\n",
    "    tower_grads: List of lists of (gradient, variable) tuples. The outer list\n",
    "      is over individual gradients. The inner list is over the gradient\n",
    "      calculation for each tower.\n",
    "    Returns:\n",
    "     List of pairs of (gradient, variable) where the gradient has been averaged\n",
    "     across all towers.\n",
    "     \n",
    "     \n",
    "    \"\"\"\n",
    "    average_grads = []\n",
    "    for grad_and_vars in zip(*tower_grads):\n",
    "        # Note that each grad_and_vars looks like the following:\n",
    "        #   ((grad0_gpu0, var0_gpu0), ... , (grad0_gpuN, var0_gpuN))\n",
    "        grads = []\n",
    "        for g, _ in grad_and_vars:\n",
    "            # Add 0 dimension to the gradients to represent the tower.\n",
    "            expanded_g = tf.expand_dims(g, 0)\n",
    "\n",
    "            # Append on a 'tower' dimension which we will average over below.\n",
    "            grads.append(expanded_g)\n",
    "\n",
    "        # Average over the 'tower' dimension.\n",
    "        grad = tf.concat(grads, 0)\n",
    "        grad = tf.reduce_mean(grad, 0)\n",
    "\n",
    "        # Keep in mind that the Variables are redundant because they are shared\n",
    "        # across towers. So .. we will just return the first tower's pointer to\n",
    "        # the Variable.\n",
    "        v = grad_and_vars[0][1]\n",
    "        grad_and_var = (grad, v)\n",
    "        average_grads.append(grad_and_var)\n",
    "    return average_grads\n"
   ]
  },
  {
   "cell_type": "markdown",
   "metadata": {},
   "source": [
    "### Plot network output\n",
    "- This is just my ugly function to regularly plot the output of my network - tensorboard would probably be a better option for this"
   ]
  },
  {
   "cell_type": "code",
   "execution_count": 11,
   "metadata": {
    "collapsed": true
   },
   "outputs": [],
   "source": [
    "def plot_network_output():\n",
    "    \"\"\" Just plots the output of the network, error, reconstructions, etc\n",
    "    \"\"\"\n",
    "    random_x, recon_z, all_d= sess.run((x_p, z_x_mean, d_x_p), {all_input: example_data})\n",
    "    top_d = np.argsort(np.squeeze(all_d))\n",
    "    recon_x = sess.run((x_tilde), {z_x: recon_z})\n",
    "    examples = 8\n",
    "    random_x = np.squeeze(random_x)\n",
    "    recon_x = np.squeeze(recon_x)\n",
    "    random_x = random_x[top_d]\n",
    "\n",
    "    fig, ax = plt.subplots(nrows=3,ncols=examples, figsize=(18,6))\n",
    "    for i in xrange(examples):\n",
    "        ax[(0,i)].imshow(create_image(random_x[i]), cmap=plt.cm.gray, interpolation='nearest')\n",
    "        ax[(1,i)].imshow(create_image(recon_x[i]), cmap=plt.cm.gray, interpolation='nearest')\n",
    "        ax[(2,i)].imshow(create_image(example_data[i + (num_cpus-1)*batch_size]), cmap=plt.cm.gray, interpolation='nearest')\n",
    "        ax[(0,i)].axis('off')\n",
    "        ax[(1,i)].axis('off')\n",
    "        ax[(2,i)].axis('off')\n",
    "    fig.suptitle('Top: random points in z space | Bottom: inputs | Middle: reconstructions')\n",
    "    plt.show()\n",
    "    #fig.savefig(''.join(['imgs/test_',str(epoch).zfill(4),'.png']),dpi=100)\n",
    "    fig, ax = plt.subplots(nrows=1,ncols=1, figsize=(20,10), linewidth = 4)\n",
    "    KL_plt, = plt.semilogy((KL_loss_list), linewidth = 4, ls='-', color='r', alpha = .5, label='KL')\n",
    "    D_plt, = plt.semilogy((D_loss_list),linewidth = 4, ls='-', color='b',alpha = .5, label='D')\n",
    "    G_plt, = plt.semilogy((G_loss_list),linewidth = 4, ls='-', color='k',alpha = .5, label='G')\n",
    "    SSE_plt, = plt.semilogy((SSE_loss_list),linewidth = 4,ls='-', color='g',alpha = .5, label='SSE')\n",
    "    LL_plt, = plt.semilogy((LL_loss_list),linewidth = 4,ls='-', color='m',alpha = .5, label='LL')\n",
    "    \n",
    "    axes = plt.gca()\n",
    "    leg = plt.legend(handles=[KL_plt, D_plt, G_plt, SSE_plt, LL_plt], fontsize=20)\n",
    "    leg.get_frame().set_alpha(0.5)\n",
    "    plt.show()\n",
    "    "
   ]
  },
  {
   "cell_type": "code",
   "execution_count": null,
   "metadata": {
    "collapsed": true
   },
   "outputs": [],
   "source": []
  },
  {
   "cell_type": "code",
   "execution_count": 12,
   "metadata": {
    "collapsed": true
   },
   "outputs": [],
   "source": [
    "# Make lists to save the losses to \n",
    "# You should probably just be using tensorboard to do any visualization(or just use tensorboard...)\n",
    "G_loss_list = [] \n",
    "D_loss_list = [] \n",
    "SSE_loss_list = []\n",
    "KL_loss_list = []\n",
    "LL_loss_list = []\n",
    "dxp_list = []\n",
    "dx_list = []"
   ]
  },
  {
   "cell_type": "code",
   "execution_count": 13,
   "metadata": {
    "collapsed": true
   },
   "outputs": [],
   "source": [
    "tf.reset_default_graph()"
   ]
  },
  {
   "cell_type": "markdown",
   "metadata": {},
   "source": [
    "### With your graph, define what a step is (needed for multi-gpu), and what your optimizers are for each of your networks"
   ]
  },
  {
   "cell_type": "code",
   "execution_count": 14,
   "metadata": {
    "collapsed": true,
    "scrolled": false
   },
   "outputs": [],
   "source": [
    "#with tf.Graph().as_default(), tf.device('/cpu:0'):\n",
    "# Create a variable to count number of train calls\n",
    "global_step = tf.get_variable(\n",
    "    'global_step', [],\n",
    "    initializer=tf.constant_initializer(0), trainable=False)\n",
    "\n",
    "\n",
    "# different optimizers are needed for different learning rates (using the same learning rate seems to work fine though)\n",
    "lr_D = tf.placeholder(tf.float32, shape=[])\n",
    "lr_G = tf.placeholder(tf.float32, shape=[])\n",
    "lr_E = tf.placeholder(tf.float32, shape=[])\n",
    "with tf.variable_scope(tf.get_variable_scope(),reuse=None):\n",
    "    opt_D = tf.train.AdamOptimizer(lr_D, epsilon=1.0)\n",
    "    opt_G = tf.train.AdamOptimizer(lr_G, epsilon=1.0)\n",
    "    opt_E = tf.train.AdamOptimizer(lr_E, epsilon=1.0)"
   ]
  },
  {
   "cell_type": "markdown",
   "metadata": {},
   "source": [
    "### Run all of the functions we defined above\n",
    "- `tower_grads_e` defines the list of gradients for the encoder for each tower\n",
    "- For each GPU we grab parameters corresponding to each network, we then calculate the gradients, and add them to the twoers to be averaged\n"
   ]
  },
  {
   "cell_type": "code",
   "execution_count": 15,
   "metadata": {
    "collapsed": true,
    "scrolled": false
   },
   "outputs": [],
   "source": [
    "\n",
    "# These are the lists of gradients for each tower \n",
    "tower_grads_e = []\n",
    "tower_grads_g = []\n",
    "tower_grads_d = []\n",
    "\n",
    "all_input = tf.placeholder(tf.float32, [batch_size*num_cpus, 784])\n",
    "KL_param = tf.placeholder(tf.float32)\n",
    "LL_param = tf.placeholder(tf.float32)\n",
    "G_param = tf.placeholder(tf.float32)\n",
    "\n",
    "\n",
    "# Define the network for each GPU\n",
    "for i in xrange(num_cpus):\n",
    "      with tf.device('/cpu:%d' % i):\n",
    "            with tf.variable_scope('Tower' , reuse=(i>0)): \n",
    "\n",
    "            #with tf.name_scope('Tower_%d' % (i)) as scope:\n",
    "                    # grab this portion of the input\n",
    "                next_batch = all_input[i*batch_size:(i+1)*batch_size,:]\n",
    "\n",
    "                # Construct the model\n",
    "                z_x_mean, z_x_log_sigma_sq, z_x, x_tilde, l_x_tilde, x_p, d_x, l_x, d_x_p, z_p = inference(next_batch)\n",
    "\n",
    "                # Calculate the loss for this tower   \n",
    "                SSE_loss, KL_loss, D_loss, G_loss, LL_loss = loss(next_batch, x_tilde, z_x_log_sigma_sq, z_x_mean, d_x, d_x_p, l_x, l_x_tilde, dim1, dim2, dim3)\n",
    "\n",
    "                # specify loss to parameters\n",
    "                params = tf.trainable_variables()\n",
    "                E_params = [i for i in params if 'enc' in i.name]\n",
    "                G_params = [i for i in params if 'gen' in i.name]\n",
    "                D_params = [i for i in params if 'dis' in i.name]\n",
    "\n",
    "                # Calculate the losses specific to encoder, generator, decoder\n",
    "                L_e = tf.clip_by_value(KL_loss*KL_param + LL_loss, -100, 100)\n",
    "                L_g = tf.clip_by_value(LL_loss * LL_param + tf.maximum(constraint_boundary, G_loss) * G_param, -100, 100)\n",
    "                L_d = tf.clip_by_value(D_loss, -100, 100)\n",
    "\n",
    "\n",
    "                # Reuse variables for the next tower.\n",
    "\n",
    "                # Calculate the gradients for the batch of data on this CIFAR tower.\n",
    "                grads_e = opt_E.compute_gradients(L_e, var_list = E_params)\n",
    "                grads_g = opt_G.compute_gradients(L_g, var_list = G_params)\n",
    "                grads_d = opt_D.compute_gradients(L_d, var_list = D_params)\n",
    "\n",
    "                # Keep track of the gradients across all towers.\n",
    "                tower_grads_e.append(grads_e)\n",
    "                tower_grads_g.append(grads_g)\n",
    "                tower_grads_d.append(grads_d)\n"
   ]
  },
  {
   "cell_type": "markdown",
   "metadata": {},
   "source": [
    "### Now lets average, and apply those gradients"
   ]
  },
  {
   "cell_type": "code",
   "execution_count": 16,
   "metadata": {
    "collapsed": true
   },
   "outputs": [],
   "source": [
    "# Average the gradients\n",
    "grads_e = average_gradients(tower_grads_e)\n",
    "grads_g = average_gradients(tower_grads_g)\n",
    "grads_d = average_gradients(tower_grads_d)\n",
    "\n",
    "# apply the gradients with our optimizers\n",
    "#with tf.variable_scope(tf.get_variable_scope(),reuse=False):\n",
    "train_E = opt_E.apply_gradients(grads_e, global_step=global_step)\n",
    "train_G = opt_G.apply_gradients(grads_g, global_step=global_step)\n",
    "train_D = opt_D.apply_gradients(grads_d, global_step=global_step)"
   ]
  },
  {
   "cell_type": "markdown",
   "metadata": {},
   "source": [
    "### Now lets actually run our session"
   ]
  },
  {
   "cell_type": "code",
   "execution_count": 17,
   "metadata": {
    "collapsed": true,
    "scrolled": false
   },
   "outputs": [],
   "source": [
    "\n",
    "# Start the Session\n",
    "init = tf.global_variables_initializer()\n",
    "saver = tf.train.Saver() # initialize network saver\n",
    "sess = tf.InteractiveSession(config=tf.ConfigProto(allow_soft_placement=True, log_device_placement=True))\n",
    "sess.run(init)"
   ]
  },
  {
   "cell_type": "markdown",
   "metadata": {},
   "source": [
    "### Get some example data to do visualizations with"
   ]
  },
  {
   "cell_type": "markdown",
   "metadata": {},
   "source": [
    "### Initialize our epoch number, and restore a saved network by uncommening `#tf.train...`"
   ]
  },
  {
   "cell_type": "code",
   "execution_count": 18,
   "metadata": {
    "scrolled": false
   },
   "outputs": [
    {
     "name": "stdout",
     "output_type": "stream",
     "text": [
      "(1024, 784)\n",
      "INFO:tensorflow:Restoring parameters from mnist_constrained_balanced_loss/faces_multiGPU_64_3299.tfmod\n"
     ]
    }
   ],
   "source": [
    "epoch = 2017\n",
    "example_data = mnist.train.next_batch(batch_size*num_cpus)[0]\n",
    "print(example_data.shape)\n",
    "tf.train.Saver.restore(saver, sess, dir_name+'/faces_multiGPU_64_3299.tfmod')\n",
    "# else:\n",
    "#     tf.train.Saver.restore(saver, sess, dir_name + '/faces_multiGPU_64_1967.tfmod')"
   ]
  },
  {
   "cell_type": "markdown",
   "metadata": {},
   "source": [
    "### Now we actually run the network\n",
    "- Importantly, notice how we define the learning rates \n",
    "    - `e_current_lr = e_learning_rate*sigmoid(np.mean(d_real),-.5,10)`\n",
    "        - we calculate the sigmoid of how the network has been performing, and squash the learning rate using a sigmoid based on that. So if the discriminator has been winning, it's learning rate will be low, and if the generator is winning, it's learning rate will be lower on the next batch."
   ]
  },
  {
   "cell_type": "code",
   "execution_count": 19,
   "metadata": {
    "collapsed": true
   },
   "outputs": [],
   "source": [
    "def sigmoid(x,shift,mult):\n",
    "    \"\"\"\n",
    "    Using this sigmoid to discourage one network overpowering the other\n",
    "    \"\"\"\n",
    "    return 1 / (1 + math.exp(-(x+shift)*mult))"
   ]
  },
  {
   "cell_type": "code",
   "execution_count": 20,
   "metadata": {},
   "outputs": [
    {
     "data": {
      "text/plain": [
       "<matplotlib.text.Text at 0x7fb876521290>"
      ]
     },
     "execution_count": 20,
     "metadata": {},
     "output_type": "execute_result"
    },
    {
     "data": {
      "image/png": "[encoded data removed]",
      "text/plain": [
       "<matplotlib.figure.Figure at 0x7fb87ff90a90>"
      ]
     },
     "metadata": {},
     "output_type": "display_data"
    }
   ],
   "source": [
    "fig, ax = plt.subplots(nrows=1,ncols=1, figsize=(18,4))\n",
    "plt.plot(np.arange(0,1,.01), [sigmoid(i/100.,-.5,10) for i in range(100)])\n",
    "ax.set_xlabel('Mean of Discriminator(Real) or Discriminator(Fake)')\n",
    "ax.set_ylabel('Multiplier for learning rate')\n",
    "plt.title('Squashing the Learning Rate to balance Discrim/Gen network performance')"
   ]
  },
  {
   "cell_type": "code",
   "execution_count": 21,
   "metadata": {
    "scrolled": false
   },
   "outputs": [
    {
     "name": "stdout",
     "output_type": "stream",
     "text": [
      "Epoch: 2017\n"
     ]
    },
    {
     "data": {
      "image/png": "[encoded data removed]",
      "text/plain": [
       "<matplotlib.figure.Figure at 0x7fb87ffd0890>"
      ]
     },
     "metadata": {},
     "output_type": "display_data"
    },
    {
     "data": {
      "image/png": "[encoded data removed]",
      "text/plain": [
       "<matplotlib.figure.Figure at 0x7fb7ec3099d0>"
      ]
     },
     "metadata": {},
     "output_type": "display_data"
    },
    {
     "name": "stderr",
     "output_type": "stream",
     "text": [
      " 17%|█▋        | 10/58 [00:10<00:48,  1.00s/it]"
     ]
    },
    {
     "ename": "KeyboardInterrupt",
     "evalue": "",
     "output_type": "error",
     "traceback": [
      "\u001b[0;31m\u001b[0m",
      "\u001b[0;31mKeyboardInterrupt\u001b[0mTraceback (most recent call last)",
      "\u001b[0;32m<ipython-input-21-7bc8df2f84c6>\u001b[0m in \u001b[0;36m<module>\u001b[0;34m()\u001b[0m\n\u001b[1;32m     27\u001b[0m                 \u001b[0mKL_param\u001b[0m\u001b[0;34m:\u001b[0m \u001b[0;36m1\u001b[0m\u001b[0;34m,\u001b[0m\u001b[0;34m\u001b[0m\u001b[0m\n\u001b[1;32m     28\u001b[0m                 \u001b[0mG_param\u001b[0m\u001b[0;34m:\u001b[0m \u001b[0;36m1\u001b[0m\u001b[0;34m,\u001b[0m\u001b[0;34m\u001b[0m\u001b[0m\n\u001b[0;32m---> 29\u001b[0;31m                 \u001b[0mLL_param\u001b[0m\u001b[0;34m:\u001b[0m \u001b[0;36m1\u001b[0m\u001b[0;34m\u001b[0m\u001b[0m\n\u001b[0m\u001b[1;32m     30\u001b[0m             }\n\u001b[1;32m     31\u001b[0m         )\n",
      "\u001b[0;32m/state/partition1/llgrid/pkg/anaconda2-4.4.0/lib/python2.7/site-packages/tensorflow/python/client/session.pyc\u001b[0m in \u001b[0;36mrun\u001b[0;34m(self, fetches, feed_dict, options, run_metadata)\u001b[0m\n\u001b[1;32m    787\u001b[0m     \u001b[0;32mtry\u001b[0m\u001b[0;34m:\u001b[0m\u001b[0;34m\u001b[0m\u001b[0m\n\u001b[1;32m    788\u001b[0m       result = self._run(None, fetches, feed_dict, options_ptr,\n\u001b[0;32m--> 789\u001b[0;31m                          run_metadata_ptr)\n\u001b[0m\u001b[1;32m    790\u001b[0m       \u001b[0;32mif\u001b[0m \u001b[0mrun_metadata\u001b[0m\u001b[0;34m:\u001b[0m\u001b[0;34m\u001b[0m\u001b[0m\n\u001b[1;32m    791\u001b[0m         \u001b[0mproto_data\u001b[0m \u001b[0;34m=\u001b[0m \u001b[0mtf_session\u001b[0m\u001b[0;34m.\u001b[0m\u001b[0mTF_GetBuffer\u001b[0m\u001b[0;34m(\u001b[0m\u001b[0mrun_metadata_ptr\u001b[0m\u001b[0;34m)\u001b[0m\u001b[0;34m\u001b[0m\u001b[0m\n",
      "\u001b[0;32m/state/partition1/llgrid/pkg/anaconda2-4.4.0/lib/python2.7/site-packages/tensorflow/python/client/session.pyc\u001b[0m in \u001b[0;36m_run\u001b[0;34m(self, handle, fetches, feed_dict, options, run_metadata)\u001b[0m\n\u001b[1;32m    995\u001b[0m     \u001b[0;32mif\u001b[0m \u001b[0mfinal_fetches\u001b[0m \u001b[0;32mor\u001b[0m \u001b[0mfinal_targets\u001b[0m\u001b[0;34m:\u001b[0m\u001b[0;34m\u001b[0m\u001b[0m\n\u001b[1;32m    996\u001b[0m       results = self._do_run(handle, final_targets, final_fetches,\n\u001b[0;32m--> 997\u001b[0;31m                              feed_dict_string, options, run_metadata)\n\u001b[0m\u001b[1;32m    998\u001b[0m     \u001b[0;32melse\u001b[0m\u001b[0;34m:\u001b[0m\u001b[0;34m\u001b[0m\u001b[0m\n\u001b[1;32m    999\u001b[0m       \u001b[0mresults\u001b[0m \u001b[0;34m=\u001b[0m \u001b[0;34m[\u001b[0m\u001b[0;34m]\u001b[0m\u001b[0;34m\u001b[0m\u001b[0m\n",
      "\u001b[0;32m/state/partition1/llgrid/pkg/anaconda2-4.4.0/lib/python2.7/site-packages/tensorflow/python/client/session.pyc\u001b[0m in \u001b[0;36m_do_run\u001b[0;34m(self, handle, target_list, fetch_list, feed_dict, options, run_metadata)\u001b[0m\n\u001b[1;32m   1130\u001b[0m     \u001b[0;32mif\u001b[0m \u001b[0mhandle\u001b[0m \u001b[0;32mis\u001b[0m \u001b[0mNone\u001b[0m\u001b[0;34m:\u001b[0m\u001b[0;34m\u001b[0m\u001b[0m\n\u001b[1;32m   1131\u001b[0m       return self._do_call(_run_fn, self._session, feed_dict, fetch_list,\n\u001b[0;32m-> 1132\u001b[0;31m                            target_list, options, run_metadata)\n\u001b[0m\u001b[1;32m   1133\u001b[0m     \u001b[0;32melse\u001b[0m\u001b[0;34m:\u001b[0m\u001b[0;34m\u001b[0m\u001b[0m\n\u001b[1;32m   1134\u001b[0m       return self._do_call(_prun_fn, self._session, handle, feed_dict,\n",
      "\u001b[0;32m/state/partition1/llgrid/pkg/anaconda2-4.4.0/lib/python2.7/site-packages/tensorflow/python/client/session.pyc\u001b[0m in \u001b[0;36m_do_call\u001b[0;34m(self, fn, *args)\u001b[0m\n\u001b[1;32m   1137\u001b[0m   \u001b[0;32mdef\u001b[0m \u001b[0m_do_call\u001b[0m\u001b[0;34m(\u001b[0m\u001b[0mself\u001b[0m\u001b[0;34m,\u001b[0m \u001b[0mfn\u001b[0m\u001b[0;34m,\u001b[0m \u001b[0;34m*\u001b[0m\u001b[0margs\u001b[0m\u001b[0;34m)\u001b[0m\u001b[0;34m:\u001b[0m\u001b[0;34m\u001b[0m\u001b[0m\n\u001b[1;32m   1138\u001b[0m     \u001b[0;32mtry\u001b[0m\u001b[0;34m:\u001b[0m\u001b[0;34m\u001b[0m\u001b[0m\n\u001b[0;32m-> 1139\u001b[0;31m       \u001b[0;32mreturn\u001b[0m \u001b[0mfn\u001b[0m\u001b[0;34m(\u001b[0m\u001b[0;34m*\u001b[0m\u001b[0margs\u001b[0m\u001b[0;34m)\u001b[0m\u001b[0;34m\u001b[0m\u001b[0m\n\u001b[0m\u001b[1;32m   1140\u001b[0m     \u001b[0;32mexcept\u001b[0m \u001b[0merrors\u001b[0m\u001b[0;34m.\u001b[0m\u001b[0mOpError\u001b[0m \u001b[0;32mas\u001b[0m \u001b[0me\u001b[0m\u001b[0;34m:\u001b[0m\u001b[0;34m\u001b[0m\u001b[0m\n\u001b[1;32m   1141\u001b[0m       \u001b[0mmessage\u001b[0m \u001b[0;34m=\u001b[0m \u001b[0mcompat\u001b[0m\u001b[0;34m.\u001b[0m\u001b[0mas_text\u001b[0m\u001b[0;34m(\u001b[0m\u001b[0me\u001b[0m\u001b[0;34m.\u001b[0m\u001b[0mmessage\u001b[0m\u001b[0;34m)\u001b[0m\u001b[0;34m\u001b[0m\u001b[0m\n",
      "\u001b[0;32m/state/partition1/llgrid/pkg/anaconda2-4.4.0/lib/python2.7/site-packages/tensorflow/python/client/session.pyc\u001b[0m in \u001b[0;36m_run_fn\u001b[0;34m(session, feed_dict, fetch_list, target_list, options, run_metadata)\u001b[0m\n\u001b[1;32m   1119\u001b[0m         return tf_session.TF_Run(session, options,\n\u001b[1;32m   1120\u001b[0m                                  \u001b[0mfeed_dict\u001b[0m\u001b[0;34m,\u001b[0m \u001b[0mfetch_list\u001b[0m\u001b[0;34m,\u001b[0m \u001b[0mtarget_list\u001b[0m\u001b[0;34m,\u001b[0m\u001b[0;34m\u001b[0m\u001b[0m\n\u001b[0;32m-> 1121\u001b[0;31m                                  status, run_metadata)\n\u001b[0m\u001b[1;32m   1122\u001b[0m \u001b[0;34m\u001b[0m\u001b[0m\n\u001b[1;32m   1123\u001b[0m     \u001b[0;32mdef\u001b[0m \u001b[0m_prun_fn\u001b[0m\u001b[0;34m(\u001b[0m\u001b[0msession\u001b[0m\u001b[0;34m,\u001b[0m \u001b[0mhandle\u001b[0m\u001b[0;34m,\u001b[0m \u001b[0mfeed_dict\u001b[0m\u001b[0;34m,\u001b[0m \u001b[0mfetch_list\u001b[0m\u001b[0;34m)\u001b[0m\u001b[0;34m:\u001b[0m\u001b[0;34m\u001b[0m\u001b[0m\n",
      "\u001b[0;31mKeyboardInterrupt\u001b[0m: "
     ]
    }
   ],
   "source": [
    "total_batch = int(np.floor(num_examples / (batch_size*num_cpus))) # how many batches are in an epoch\n",
    "\n",
    "# We balance of generator and discriminators learning rate by using a sigmoid function,\n",
    "#  encouraging the generator and discriminator be about equal\n",
    "d_real = 0\n",
    "d_fake = 0\n",
    "\n",
    "while epoch < num_epochs:    \n",
    "    for i in tqdm.tqdm(range(total_batch)):\n",
    "\n",
    "        # balence gen and descrim\n",
    "        e_current_lr = e_learning_rate*sigmoid(np.mean(d_real),-.5,15)\n",
    "        g_current_lr = g_learning_rate*sigmoid(np.mean(d_real),-.5,15)\n",
    "        d_current_lr = d_learning_rate*sigmoid(np.mean(d_fake),-.5,15)\n",
    "        next_batches = mnist.train.next_batch(batch_size*num_cpus)[0]\n",
    "        _, _, _, D_err, G_err, KL_err, SSE_err, LL_err, d_fake,d_real = sess.run([\n",
    "                train_E, train_G, train_D,\n",
    "                D_loss, G_loss, KL_loss, SSE_loss, LL_loss,\n",
    "                d_x_p, d_x,\n",
    "\n",
    "            ],\n",
    "                                        {\n",
    "                lr_E: e_current_lr,\n",
    "                lr_G: g_current_lr,\n",
    "                lr_D: d_current_lr,\n",
    "                all_input: next_batches,\n",
    "                KL_param: 1,\n",
    "                G_param: 1,\n",
    "                LL_param: 1\n",
    "            }\n",
    "        )\n",
    "        #KL_err= SSE_err= LL_err = 1\n",
    "        # Save our lists\n",
    "        dxp_list.append(d_fake)\n",
    "        dx_list.append(d_real)\n",
    "        G_loss_list.append(G_err)\n",
    "        D_loss_list.append(D_err)\n",
    "        KL_loss_list.append(KL_err)\n",
    "        SSE_loss_list.append(SSE_err)\n",
    "        LL_loss_list.append(LL_err)\n",
    "        if i%300 == 0:\n",
    "            # print display network output\n",
    "            IPython.display.clear_output()\n",
    "            print('Epoch: '+str(epoch))\n",
    "            plot_network_output()\n",
    "  \n",
    "    # save network\n",
    "    saver.save(sess,''.join([dir_name + '/faces_multiGPU_64_',str(epoch).zfill(4),'.tfmod']))\n",
    "    epoch +=1\n"
   ]
  },
  {
   "cell_type": "markdown",
   "metadata": {},
   "source": [
    "### This is how we save our network \n",
    "- Just uncomment, and name it."
   ]
  },
  {
   "cell_type": "code",
   "execution_count": null,
   "metadata": {
    "collapsed": true
   },
   "outputs": [],
   "source": [
    "total_batch\n",
    "#saver.save(sess,''.join(['models/faces_multiGPU_64_',str(epoch).zfill(4),'.tfmod']))"
   ]
  },
  {
   "cell_type": "markdown",
   "metadata": {},
   "source": [
    "### Visualize movement through z-space\n",
    "- we're using jupyter widgets to slide through z-space from one point to another"
   ]
  },
  {
   "cell_type": "code",
   "execution_count": 24,
   "metadata": {},
   "outputs": [
    {
     "name": "stdout",
     "output_type": "stream",
     "text": [
      "(28, 280, 20)\n"
     ]
    }
   ],
   "source": [
    "n_steps = 20\n",
    "examples = 10\n",
    "all_x_recon = np.zeros((batch_size, dim1*dim2*dim3,n_steps))\n",
    "z_point_a= np.random.normal(0,1,(batch_size,hidden_size))\n",
    "z_point_b= np.random.normal(0,1,(batch_size,hidden_size))\n",
    "recon_z_step = (z_point_b - z_point_a)/n_steps\n",
    "for i in range(n_steps):\n",
    "    z_point_a += recon_z_step\n",
    "    all_x_recon[:,:,i] = sess.run((x_tilde), {z_x: z_point_a})\n",
    "\n",
    "canvas = np.zeros((dim1,dim2*examples, n_steps))\n",
    "print np.shape(canvas)\n",
    "for f in range(n_steps):\n",
    "    for i in range(examples):\n",
    "        canvas[:,dim2*i:dim2*(i+1),f] = create_image(all_x_recon[i,:,f])\n",
    "    "
   ]
  },
  {
   "cell_type": "code",
   "execution_count": 25,
   "metadata": {
    "scrolled": false
   },
   "outputs": [
    {
     "data": {
      "application/vnd.jupyter.widget-view+json": {
       "model_id": "42b1818c68c341b7a9bb3f578ee3bfb5"
      }
     },
     "metadata": {},
     "output_type": "display_data"
    },
    {
     "data": {
      "text/plain": [
       "<function __main__.plt_random_faces>"
      ]
     },
     "execution_count": 25,
     "metadata": {},
     "output_type": "execute_result"
    }
   ],
   "source": [
    "def plt_random_faces(f):\n",
    "    fig, ax = plt.subplots(nrows=1,ncols=1, figsize=(18,12))\n",
    "    plt.imshow(canvas[:,:,f],interpolation='nearest')\n",
    "    plt.title('This slider won\\.t work in Github')\n",
    "    plt.show()\n",
    "interact(plt_random_faces, f = (0,n_steps-1,1))"
   ]
  },
  {
   "cell_type": "markdown",
   "metadata": {},
   "source": [
    "### 'Spike Triggered Average' style receptive fields.\n",
    "- We take a look at what makes a neuron respond, by taking a bunch of images, and averaging them based on how much the neuron was activated. "
   ]
  },
  {
   "cell_type": "code",
   "execution_count": null,
   "metadata": {
    "collapsed": true
   },
   "outputs": [],
   "source": [
    "def norm(x):\n",
    "    return (x - np.min(x)) / np.max(x - np.min(x))"
   ]
  },
  {
   "cell_type": "code",
   "execution_count": null,
   "metadata": {
    "collapsed": true
   },
   "outputs": [],
   "source": [
    "# get a bunch of images and their corresponding z points in the network\n",
    "recon_z = np.random.normal(0,1,(batch_size,hidden_size))\n",
    "recon_x, recon_l = sess.run((x_tilde, l_x_tilde), {z_x: recon_z})\n",
    "for i in range(100):\n",
    "    rz = np.random.normal(0,1,(batch_size,hidden_size))\n",
    "    rx, rl = sess.run((x_tilde, l_x_tilde), {z_x: rz})\n",
    "    recon_z= np.concatenate((recon_z,rz),axis = 0)\n",
    "    recon_l = np.concatenate((recon_l,rl),axis = 0)\n",
    "    recon_x = np.concatenate((recon_x,rx),axis = 0)"
   ]
  },
  {
   "cell_type": "markdown",
   "metadata": {},
   "source": [
    "#### Z-Neurons"
   ]
  },
  {
   "cell_type": "code",
   "execution_count": null,
   "metadata": {
    "collapsed": true
   },
   "outputs": [],
   "source": [
    "num_neurons = 25\n",
    "\n",
    "neuron = 0\n",
    "fig, ax = plt.subplots(nrows=int(np.sqrt(num_neurons)),ncols=int(np.sqrt(num_neurons)), figsize=(18,12))\n",
    "for a in range(int(np.sqrt(num_neurons))):\n",
    "    for b in range(int(np.sqrt(num_neurons))):\n",
    "        proportions = (recon_z[:,neuron] - min(recon_z[:,neuron])) / max((recon_z[:,neuron] - min(recon_z[:,neuron])))\n",
    "        receptive_field = norm(np.sum(([proportions[i] * recon_x[i,:] for i in range(len(proportions))]),axis = 0)/np.sum(proportions)- np.mean(recon_x,axis = 0))\n",
    "        ax[(a,b)].imshow(create_image(receptive_field), cmap=plt.cm.gray, interpolation='nearest')\n",
    "        ax[(a,b)].axis('off')\n",
    "        neuron+=1"
   ]
  },
  {
   "cell_type": "markdown",
   "metadata": {},
   "source": [
    "#### Deep Descriminator Neurons"
   ]
  },
  {
   "cell_type": "code",
   "execution_count": null,
   "metadata": {
    "collapsed": true
   },
   "outputs": [],
   "source": [
    "num_neurons = 25\n",
    "\n",
    "neuron = 0\n",
    "fig, ax = plt.subplots(nrows=int(np.sqrt(num_neurons)),ncols=int(np.sqrt(num_neurons)), figsize=(18,12))\n",
    "for a in range(int(np.sqrt(num_neurons))):\n",
    "    for b in range(int(np.sqrt(num_neurons))):\n",
    "        proportions = (recon_l[:,neuron] - min(recon_l[:,neuron])) / max((recon_l[:,neuron] - min(recon_l[:,neuron])))\n",
    "        receptive_field = norm(np.sum(([proportions[i] * recon_x[i,:] for i in range(len(proportions))]),axis = 0)/np.sum(proportions)- np.mean(recon_x,axis = 0))\n",
    "        #test = norm(test/np.mean(test_list, axis = 0))\n",
    "        ax[(a,b)].imshow(create_image(receptive_field), cmap=plt.cm.gray, interpolation='nearest')\n",
    "        ax[(a,b)].axis('off')\n",
    "        neuron+=1"
   ]
  },
  {
   "cell_type": "markdown",
   "metadata": {
    "collapsed": true
   },
   "source": [
    "### This implementation is based on a few other things:\n",
    "- [Autoencoding beyond pixels](http://arxiv.org/abs/1512.09300) [*(Github)*](https://github.com/andersbll/autoencoding_beyond_pixels)\n",
    "- [VAE and GAN implementations in prettytensor/tensorflow (*Github*)](https://github.com/ikostrikov/TensorFlow-VAE-GAN-DRAW)\n",
    "- [Tensorflow VAE tutorial](https://jmetzen.github.io/2015-11-27/vae.html)\n",
    "- [DCGAN](https://arxiv.org/abs/1511.06434) [*(Github)*](https://github.com/Newmu/dcgan_code)\n",
    "- [Torch GAN tutorial](http://torch.ch/blog/2015/11/13/gan.html) [*(Github)*](https://github.com/skaae/torch-gan)\n",
    "- [Open AI improving GANS](https://openai.com/blog/generative-models/)  [*(Github)*](https://github.com/openai/improved-gan)\n",
    "- Other things which I am probably forgetting...\n"
   ]
  },
  {
   "cell_type": "code",
   "execution_count": null,
   "metadata": {
    "collapsed": true
   },
   "outputs": [],
   "source": []
  }
 ],
 "metadata": {
  "kernelspec": {
   "display_name": "Python [default]",
   "language": "python",
   "name": "python2"
  },
  "language_info": {
   "codemirror_mode": {
    "name": "ipython",
    "version": 2
   },
   "file_extension": ".py",
   "mimetype": "text/x-python",
   "name": "python",
   "nbconvert_exporter": "python",
   "pygments_lexer": "ipython2",
   "version": "2.7.13"
  },
  "latex_envs": {
   "LaTeX_envs_menu_present": true,
   "autocomplete": true,
   "bibliofile": "biblio.bib",
   "cite_by": "apalike",
   "current_citInitial": 1,
   "eqLabelWithNumbers": true,
   "eqNumInitial": 1,
   "hotkeys": {
    "equation": "Ctrl-E",
    "itemize": "Ctrl-I"
   },
   "labels_anchors": false,
   "latex_user_defs": false,
   "report_style_numbering": false,
   "user_envs_cfg": false
  },
  "toc": {
   "nav_menu": {},
   "number_sections": true,
   "sideBar": true,
   "skip_h1_title": false,
   "toc_cell": false,
   "toc_position": {},
   "toc_section_display": "block",
   "toc_window_display": false
  },
  "varInspector": {
   "cols": {
    "lenName": 16,
    "lenType": 16,
    "lenVar": 40
   },
   "kernels_config": {
    "python": {
     "delete_cmd_postfix": "",
     "delete_cmd_prefix": "del ",
     "library": "var_list.py",
     "varRefreshCmd": "print(var_dic_list())"
    },
    "r": {
     "delete_cmd_postfix": ") ",
     "delete_cmd_prefix": "rm(",
     "library": "var_list.r",
     "varRefreshCmd": "cat(var_dic_list()) "
    }
   },
   "types_to_exclude": [
    "module",
    "function",
    "builtin_function_or_method",
    "instance",
    "_Feature"
   ],
   "window_display": false
  }
 },
 "nbformat": 4,
 "nbformat_minor": 1
}
